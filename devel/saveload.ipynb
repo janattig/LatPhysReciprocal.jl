{
 "cells": [
  {
   "cell_type": "code",
   "execution_count": 1,
   "metadata": {},
   "outputs": [
    {
     "name": "stderr",
     "output_type": "stream",
     "text": [
      "┌ Info: Recompiling stale cache file /home/jattig/.julia/compiled/v1.0/LatPhysReciprocal/VOqf5.ji for LatPhysReciprocal [7a511e88-ebe4-11e8-1bac-67d16a536c98]\n",
      "└ @ Base loading.jl:1184\n",
      "┌ Warning: Package LatPhysBase does not have HDF5 in its dependencies:\n",
      "│ - If you have LatPhysBase checked out for development and have\n",
      "│   added HDF5 as a dependency but haven't updated your primary\n",
      "│   environment's manifest file, try `Pkg.resolve()`.\n",
      "│ - Otherwise you may need to report an issue with LatPhysBase\n",
      "└ Loading HDF5 into LatPhysBase from project dependency, future warnings for LatPhysBase are suppressed.\n",
      "┌ Warning: The call to compilecache failed to create a usable precompiled cache file for LatPhysReciprocal [7a511e88-ebe4-11e8-1bac-67d16a536c98]\n",
      "│   exception = ErrorException(\"Required dependency LatPhysBase [eec5c15a-e8bd-11e8-0d23-6799ca40c963] failed to load from a cache file.\")\n",
      "└ @ Base loading.jl:963\n",
      "┌ Info: Recompiling stale cache file /home/jattig/.julia/compiled/v1.0/LatPhysBase/EfjeA.ji for LatPhysBase [eec5c15a-e8bd-11e8-0d23-6799ca40c963]\n",
      "└ @ Base loading.jl:1184\n",
      "┌ Warning: Package LatPhysBase does not have HDF5 in its dependencies:\n",
      "│ - If you have LatPhysBase checked out for development and have\n",
      "│   added HDF5 as a dependency but haven't updated your primary\n",
      "│   environment's manifest file, try `Pkg.resolve()`.\n",
      "│ - Otherwise you may need to report an issue with LatPhysBase\n",
      "└ Loading HDF5 into LatPhysBase from project dependency, future warnings for LatPhysBase are suppressed.\n",
      "┌ Info: Recompiling stale cache file /home/jattig/.julia/compiled/v1.0/LatPhysLatticeConstruction/0iCve.ji for LatPhysLatticeConstruction [ec4de012-e8d7-11e8-3fed-dfe576d3bbe4]\n",
      "└ @ Base loading.jl:1184\n",
      "┌ Info: Precompiling LatticePhysics [53011200-ee7a-11e8-39f1-5f3e57afe4fd]\n",
      "└ @ Base loading.jl:1186\n",
      "┌ Warning: Module LatPhysReciprocal with build ID 4305586624063458 is missing from the cache.\n",
      "│ This may mean LatPhysReciprocal [7a511e88-ebe4-11e8-1bac-67d16a536c98] does not support precompilation but is imported by a module that does.\n",
      "└ @ Base loading.jl:941\n",
      "┌ Info: Recompiling stale cache file /home/jattig/.julia/compiled/v1.0/LatPhysBandstructures/FfNwb.ji for LatPhysBandstructures [72414950-169f-5300-802d-f5e080ac9554]\n",
      "└ @ Base loading.jl:1184\n",
      "┌ Warning: Module LatPhysReciprocal with build ID 4305586624063458 is missing from the cache.\n",
      "│ This may mean LatPhysReciprocal [7a511e88-ebe4-11e8-1bac-67d16a536c98] does not support precompilation but is imported by a module that does.\n",
      "└ @ Base loading.jl:941\n"
     ]
    }
   ],
   "source": [
    "using LatPhysReciprocal\n",
    "using LatticePhysics\n",
    "using HDF5"
   ]
  },
  {
   "cell_type": "markdown",
   "metadata": {},
   "source": [
    "# Reciprocal Paths"
   ]
  },
  {
   "cell_type": "code",
   "execution_count": 5,
   "metadata": {},
   "outputs": [
    {
     "data": {
      "text/plain": [
       "saveReciprocalPath (generic function with 2 methods)"
      ]
     },
     "execution_count": 5,
     "metadata": {},
     "output_type": "execute_result"
    }
   ],
   "source": [
    "function saveReciprocalPath(\n",
    "        rp :: RP,\n",
    "        fn :: AbstractString,\n",
    "        group :: AbstractString = \"reciprocal_path\"\n",
    "        ;\n",
    "        append :: Bool = false\n",
    "    ) where {D,P<:ReciprocalPoint{D},RP<:ReciprocalPath{P}}\n",
    "    \n",
    "    # determine the mode based on if one wants to append stuff\n",
    "    if append\n",
    "        mode = \"r+\"\n",
    "    else\n",
    "        mode = \"w\"\n",
    "    end\n",
    "\n",
    "    # open the file in mode\n",
    "    h5open(fn, mode) do file\n",
    "        # create the group in which the bonds are saved\n",
    "        group_path = g_create(file, group)\n",
    "        # save the parameters\n",
    "        attrs(group_path)[\"D\"] = Int64(D)\n",
    "        # save all Positions (D dimensions)\n",
    "        if 0 < Int64(D)\n",
    "            for n in 1:Int64(D)\n",
    "                group_path[\"point_$(n)\"] = Float64[point(p)[n] for p in rp]\n",
    "            end\n",
    "        end\n",
    "        # save all labels\n",
    "        group_path[\"label\"]       = String[string(label(p)) for p in rp]\n",
    "        group_path[\"label_LaTeX\"] = String[string(labelLaTeX(p)) for p in rp]\n",
    "    end\n",
    "\n",
    "    # return nothing\n",
    "    return nothing\n",
    "end"
   ]
  },
  {
   "cell_type": "code",
   "execution_count": 20,
   "metadata": {},
   "outputs": [
    {
     "data": {
      "text/plain": [
       "loadReciprocalPath (generic function with 4 methods)"
      ]
     },
     "execution_count": 20,
     "metadata": {},
     "output_type": "execute_result"
    }
   ],
   "source": [
    "function loadReciprocalPath(\n",
    "        ::Type{RPI},\n",
    "        fn :: AbstractString,\n",
    "        group :: AbstractString = \"reciprocal_path\"\n",
    "    ) where {DI,PI<:ReciprocalPoint{DI},RPI<:Union{ReciprocalPath{PI},ReciprocalPath}}\n",
    "\n",
    "    # read attribute data\n",
    "    attr_data = h5readattr(fn, group)\n",
    "    # determine D based on this\n",
    "    D  = attr_data[\"D\"]\n",
    "\n",
    "    # load all remaining data\n",
    "    rp_label       = h5read(fn, group*\"/label\")\n",
    "    rp_label_LaTeX = h5read(fn, group*\"/label_LaTeX\")\n",
    "\n",
    "    if D == 0\n",
    "        rp_point = [Float64[] for i in 1:length(rp_label)]\n",
    "    else\n",
    "        rp_point_parts = [\n",
    "            h5read(fn, group*\"/point_\"*string(j)) for j in 1:D\n",
    "        ]\n",
    "        rp_point = Vector{Float64}[Float64[rp_point_parts[j][i] for j in 1:D] for i in 1:length(rp_label)]\n",
    "    end\n",
    "\n",
    "    # create list of points in the path\n",
    "    rpp = ReciprocalPoint{D}[\n",
    "        newReciprocalPoint(ReciprocalPoint{D}, rp_point[i], rp_label[i], rp_label_LaTeX[i])\n",
    "        for i in 1:length(rp_label)\n",
    "    ]\n",
    "\n",
    "    # return the path\n",
    "    return newReciprocalPath(ReciprocalPath{ReciprocalPoint{D}}, rpp)\n",
    "end\n",
    "\n",
    "\n",
    "# convinience function for standard type\n",
    "function loadReciprocalPath(\n",
    "        fn :: AbstractString,\n",
    "        group :: AbstractString = \"reciprocal_path\"\n",
    "    )\n",
    "\n",
    "    return loadReciprocalPath(ReciprocalPath, fn, group)\n",
    "end"
   ]
  },
  {
   "cell_type": "code",
   "execution_count": 27,
   "metadata": {},
   "outputs": [
    {
     "data": {
      "text/plain": [
       "5-element ReciprocalPath{ReciprocalPoint{3}}:\n",
       " ReciprocalPoint{3} @[0.829031, 0.218166, -1.5708]: (\"K\" / L\"K\")   \n",
       " ReciprocalPoint{3} @[0.0, 0.0, 0.0]: (\"Gamma\" / L\"\\Gamma\")        \n",
       " ReciprocalPoint{3} @[1.22173, -0.174533, -0.785398]: (\"M\" / L\"M\") \n",
       " ReciprocalPoint{3} @[-0.174533, 1.22173, 0.785398]: (\"M'\" / L\"M'\")\n",
       " ReciprocalPoint{3} @[0.0, 0.0, 0.0]: (\"Gamma\" / L\"\\Gamma\")        "
      ]
     },
     "execution_count": 27,
     "metadata": {},
     "output_type": "execute_result"
    }
   ],
   "source": [
    "recpath = getReciprocalPath(getUnitcellHyperhoneycomb(String,Int64), :K, :Gamma,:M,(:Mp,57),:Gamma)\n",
    "saveReciprocalPath(recpath, \"test.h5\")\n",
    "recpath"
   ]
  },
  {
   "cell_type": "code",
   "execution_count": 28,
   "metadata": {},
   "outputs": [
    {
     "data": {
      "text/plain": [
       "5-element ReciprocalPath{ReciprocalPoint{3}}:\n",
       " ReciprocalPoint{3} @[0.829031, 0.218166, -1.5708]: (\"K\" / L\"K\")   \n",
       " ReciprocalPoint{3} @[0.0, 0.0, 0.0]: (\"Gamma\" / L\"\\Gamma\")        \n",
       " ReciprocalPoint{3} @[1.22173, -0.174533, -0.785398]: (\"M\" / L\"M\") \n",
       " ReciprocalPoint{3} @[-0.174533, 1.22173, 0.785398]: (\"M'\" / L\"M'\")\n",
       " ReciprocalPoint{3} @[0.0, 0.0, 0.0]: (\"Gamma\" / L\"\\Gamma\")        "
      ]
     },
     "execution_count": 28,
     "metadata": {},
     "output_type": "execute_result"
    }
   ],
   "source": [
    "loadReciprocalPath(\"test.h5\")"
   ]
  },
  {
   "cell_type": "code",
   "execution_count": null,
   "metadata": {},
   "outputs": [],
   "source": []
  },
  {
   "cell_type": "code",
   "execution_count": null,
   "metadata": {},
   "outputs": [],
   "source": []
  }
 ],
 "metadata": {
  "@webio": {
   "lastCommId": null,
   "lastKernelId": null
  },
  "kernelspec": {
   "display_name": "Julia 1.0.0",
   "language": "julia",
   "name": "julia-1.0"
  },
  "language_info": {
   "file_extension": ".jl",
   "mimetype": "application/julia",
   "name": "julia",
   "version": "1.0.0"
  }
 },
 "nbformat": 4,
 "nbformat_minor": 2
}
